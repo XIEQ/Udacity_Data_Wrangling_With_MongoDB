{
 "cells": [
  {
   "cell_type": "markdown",
   "metadata": {},
   "source": [
    "# Lesson 1 Section 10 Intro to XLRD\n",
    "\n",
    "Python module `xlrd`. This module allows us to work on Excel file (both old xls and current xlsx foramt ). \n",
    "\n",
    "Python module `xlwt`. This allows us to create Excel file."
   ]
  },
  {
   "cell_type": "code",
   "execution_count": 2,
   "metadata": {
    "collapsed": false
   },
   "outputs": [
    {
     "name": "stdout",
     "output_type": "stream",
     "text": [
      "Data\n",
      "Lectures\n",
      "Problem_set\n",
      "Project\n",
      "README.md\n"
     ]
    }
   ],
   "source": [
    "%%bash\n",
    "ls ../"
   ]
  },
  {
   "cell_type": "code",
   "execution_count": 7,
   "metadata": {
    "collapsed": false
   },
   "outputs": [
    {
     "name": "stdout",
     "output_type": "stream",
     "text": [
      "\n",
      "List Comprehension\n",
      "data[3][2]:\n",
      "1036.088697\n",
      "\n",
      "Cells in a nested loop:\n",
      "41277.0833333\n",
      "9238.73731\n",
      "1438.20528\n",
      "1565.442856\n",
      "916.708348\n",
      "14010.903488\n",
      "3027.98334\n",
      "6165.211119\n",
      "1157.741663\n",
      "37520.933404\n",
      "\n",
      "ROWS, COLUMNS, and CELLS:\n",
      "Number of rows in the sheet: 7296\n",
      "Type of data in cell (row 3, col 2): 2\n",
      "value in cell (row 3, col 2): 1036.088697\n",
      "Get a slice of values in column 3, from rows 1-3: [1411.7505669999982, 1403.4722870000019, 1395.053150000001]\n",
      "\n",
      "DATES:\n",
      "Type of data in cell (row 1, col 0): 3\n",
      "Time in Excel format: 41275.0416667\n",
      "Convert time to a Python datatime tuple, from the Excel float: (2013, 1, 1, 1, 0, 0)\n"
     ]
    }
   ],
   "source": [
    "import xlrd\n",
    "\n",
    "# datafiles are stored in Data/ directory\n",
    "datafile = \"../Data/2013_ERCOT_Hourly_Load_Data.xls\"\n",
    "\n",
    "def parse_file(datafile):\n",
    "    workbook = xlrd.open_workbook(datafile)\n",
    "    sheet = workbook.sheet_by_index(0)\n",
    "    \n",
    "    # use list comprehension to extract data from Excel sheet.\n",
    "    # a list of lists, with each inner list stores a row of data\n",
    "    data = [[sheet.cell_value(r, col)\n",
    "                for col in range(sheet.ncols)]\n",
    "                    for r in range(sheet.nrows)]\n",
    "    \n",
    "    print \"\\nList Comprehension\"\n",
    "    print \"data[3][2]:\"\n",
    "    print data[3][2]\n",
    "    \n",
    "    print \"\\nCells in a nested loop:\"\n",
    "    for row in range(sheet.nrows):\n",
    "        for col in range(sheet.ncols):\n",
    "            if row == 50:\n",
    "                print sheet.cell_value(row, col)\n",
    "    \n",
    "    ### other useful methods:\n",
    "    print \"\\nROWS, COLUMNS, and CELLS:\"\n",
    "    print \"Number of rows in the sheet:\",\n",
    "    print sheet.nrows\n",
    "    print \"Type of data in cell (row 3, col 2):\",\n",
    "    print sheet.cell_type(3, 2)\n",
    "    print \"value in cell (row 3, col 2):\",\n",
    "    print sheet.cell_value(3, 2)\n",
    "    print \"Get a slice of values in column 3, from rows 1-3:\",\n",
    "    print sheet.col_values(3, start_rowx = 1, end_rowx = 4)\n",
    "    \n",
    "    print \"\\nDATES:\"\n",
    "    print \"Type of data in cell (row 1, col 0):\",\n",
    "    print sheet.cell_type(1, 0)\n",
    "    exceltime = sheet.cell_value(1, 0)\n",
    "    print \"Time in Excel format:\", \n",
    "    print exceltime\n",
    "    print \"Convert time to a Python datatime tuple, from the Excel float:\",\n",
    "    print xlrd.xldate_as_tuple(exceltime, 0)\n",
    "    \n",
    "    return data\n",
    "\n",
    "data = parse_file(datafile)"
   ]
  },
  {
   "cell_type": "code",
   "execution_count": null,
   "metadata": {
    "collapsed": true
   },
   "outputs": [],
   "source": []
  }
 ],
 "metadata": {
  "kernelspec": {
   "display_name": "Python 2",
   "language": "python",
   "name": "python2"
  },
  "language_info": {
   "codemirror_mode": {
    "name": "ipython",
    "version": 2
   },
   "file_extension": ".py",
   "mimetype": "text/x-python",
   "name": "python",
   "nbconvert_exporter": "python",
   "pygments_lexer": "ipython2",
   "version": "2.7.11"
  }
 },
 "nbformat": 4,
 "nbformat_minor": 0
}
